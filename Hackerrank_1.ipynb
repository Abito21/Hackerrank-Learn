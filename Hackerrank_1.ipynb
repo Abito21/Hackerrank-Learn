{
  "nbformat": 4,
  "nbformat_minor": 0,
  "metadata": {
    "colab": {
      "name": "Hackerrank-1.ipynb",
      "provenance": []
    },
    "kernelspec": {
      "name": "python3",
      "display_name": "Python 3"
    },
    "language_info": {
      "name": "python"
    }
  },
  "cells": [
    {
      "cell_type": "code",
      "execution_count": 1,
      "metadata": {
        "colab": {
          "base_uri": "https://localhost:8080/"
        },
        "id": "JDGp3EPU9ZvM",
        "outputId": "2bb15474-60bf-402e-cdaa-1ca1eab1f4c5"
      },
      "outputs": [
        {
          "output_type": "stream",
          "name": "stdout",
          "text": [
            "[-0.28  0.52  0.56]\n"
          ]
        }
      ],
      "source": [
        "import numpy as np\n",
        "a = np.array([[1, 2, 4], [3, 5, 4], [3, 2, 5]])\n",
        "b = np.array([3, 4, 3])\n",
        "print(np.linalg.solve(a, b))"
      ]
    },
    {
      "cell_type": "code",
      "source": [
        "teks = 'abid Juliant Indraswara AIUEO'\n",
        "vokal = 'aiueoAIUEO'\n",
        "lib = {'a' : '1', 'i' : '2', 'u' : '3', 'e' : '4', 'o' : '5'}\n",
        "for i in range(0, len(teks)):\n",
        "  if teks[i] in vokal:\n",
        "    huruf = teks[i].lower()\n",
        "    teks = teks.replace(teks[i], huruf)\n",
        "    teks = teks.replace(huruf, lib[huruf])\n",
        "\n",
        "print(teks)"
      ],
      "metadata": {
        "colab": {
          "base_uri": "https://localhost:8080/"
        },
        "id": "sji74xqG58Zb",
        "outputId": "5cc92550-c9f4-4adf-f318-975c61f370bf"
      },
      "execution_count": 2,
      "outputs": [
        {
          "output_type": "stream",
          "name": "stdout",
          "text": [
            "1b2d J3l21nt 2ndr1sw1r1 12345\n"
          ]
        }
      ]
    },
    {
      "cell_type": "code",
      "source": [
        "for i in range(1, 10, 3):\n",
        "  print(i)"
      ],
      "metadata": {
        "colab": {
          "base_uri": "https://localhost:8080/"
        },
        "id": "HM5lfIn-SJ_H",
        "outputId": "f942ccb8-ef30-4afe-f7d4-7f444779d495"
      },
      "execution_count": 3,
      "outputs": [
        {
          "output_type": "stream",
          "name": "stdout",
          "text": [
            "1\n",
            "4\n",
            "7\n"
          ]
        }
      ]
    },
    {
      "cell_type": "code",
      "source": [
        "angka = []\n",
        "for i in range(9, 1, -2):\n",
        "  angka.append(i)\n",
        "print(angka)"
      ],
      "metadata": {
        "colab": {
          "base_uri": "https://localhost:8080/"
        },
        "id": "NW-xFqvJUzYD",
        "outputId": "902a77dd-cb91-46f5-bf99-8b6bf0c2c126"
      },
      "execution_count": 4,
      "outputs": [
        {
          "output_type": "stream",
          "name": "stdout",
          "text": [
            "[9, 7, 5, 3]\n"
          ]
        }
      ]
    },
    {
      "cell_type": "code",
      "source": [
        "def deret(awal, akhir, sel):\n",
        "  if awal > akhir:\n",
        "    sel /= -1\n",
        "  for i in range(awal, akhir, int(sel)):\n",
        "    print(i)\n",
        "\n",
        "deret(10, 5, 1)"
      ],
      "metadata": {
        "colab": {
          "base_uri": "https://localhost:8080/"
        },
        "id": "2SWcCov_WXQm",
        "outputId": "f5d4062d-c7ce-471b-9e89-fc35110e48e7"
      },
      "execution_count": 5,
      "outputs": [
        {
          "output_type": "stream",
          "name": "stdout",
          "text": [
            "10\n",
            "9\n",
            "8\n",
            "7\n",
            "6\n"
          ]
        }
      ]
    },
    {
      "cell_type": "code",
      "source": [
        "for i in range(12, 1, -1):\n",
        "  if i % 2 != 0:\n",
        "    print(i)"
      ],
      "metadata": {
        "colab": {
          "base_uri": "https://localhost:8080/"
        },
        "id": "x_0miExiYU0x",
        "outputId": "4f26df62-926c-4472-8581-bc5e03e69733"
      },
      "execution_count": 6,
      "outputs": [
        {
          "output_type": "stream",
          "name": "stdout",
          "text": [
            "11\n",
            "9\n",
            "7\n",
            "5\n",
            "3\n"
          ]
        }
      ]
    },
    {
      "cell_type": "code",
      "source": [
        "teks = 'Abid Juliant Indraswara AIUEO'\n",
        "vokal = \"aiueoAIUEO\"\n",
        "lib = {'a' : '1', 'i' : '2', 'u' : '3', 'e' : '4', 'o' : '5'}\n",
        "\n",
        "for i in range(0, len(teks)):\n",
        "  if teks[i] in vokal:\n",
        "    huruf = teks[i].lower()\n",
        "    teks = teks.replace(teks[i], huruf)\n",
        "    teks = teks.replace(huruf, lib[huruf])\n",
        "  \n",
        "\n",
        "print(teks)\n"
      ],
      "metadata": {
        "colab": {
          "base_uri": "https://localhost:8080/"
        },
        "id": "dOjbe_BLm0ec",
        "outputId": "7ebe94aa-ae7e-494e-bccf-ed7d5360bf05"
      },
      "execution_count": 8,
      "outputs": [
        {
          "output_type": "stream",
          "name": "stdout",
          "text": [
            "1b2d J3l21nt 2ndr1sw1r1 12345\n"
          ]
        }
      ]
    },
    {
      "cell_type": "code",
      "source": [
        "import numpy as np\n",
        "a = np.array([[1, 2, 4], [4, 5, 3], [7, 4, 6]])\n",
        "b = np.array([3, 2, 6])\n",
        "txt = np.linalg.solve(a, b)\n",
        "print(txt)"
      ],
      "metadata": {
        "colab": {
          "base_uri": "https://localhost:8080/"
        },
        "id": "anY1Ur7I5x_l",
        "outputId": "f26f391a-b671-4e26-c9a4-1e02e237bdde"
      },
      "execution_count": 9,
      "outputs": [
        {
          "output_type": "stream",
          "name": "stdout",
          "text": [
            "[ 0.34375  -0.390625  0.859375]\n"
          ]
        }
      ]
    },
    {
      "cell_type": "code",
      "source": [
        "txt = 'Fauzan Tri Nugroho'\n",
        "print(txt[9:6:-1])\n",
        "print(txt[-13::-1])"
      ],
      "metadata": {
        "colab": {
          "base_uri": "https://localhost:8080/"
        },
        "id": "RznIXXlC8jw_",
        "outputId": "4fcd79a5-36d8-42c4-f064-fa0195bd9e0d"
      },
      "execution_count": 10,
      "outputs": [
        {
          "output_type": "stream",
          "name": "stdout",
          "text": [
            "irT\n",
            "nazuaF\n"
          ]
        }
      ]
    },
    {
      "cell_type": "code",
      "source": [
        "angka = []\n",
        "def deret(input):\n",
        "  for i in range(input, 1, -1):\n",
        "    if i % 2 != 0:\n",
        "      angka.append(i)\n",
        "  print(angka)\n",
        "\n",
        "deret(10)"
      ],
      "metadata": {
        "colab": {
          "base_uri": "https://localhost:8080/"
        },
        "id": "H3j_xCq39ZZ5",
        "outputId": "fe0ffe65-94e2-4ce3-b28a-dedf9bf90a5b"
      },
      "execution_count": 11,
      "outputs": [
        {
          "output_type": "stream",
          "name": "stdout",
          "text": [
            "[9, 7, 5, 3]\n"
          ]
        }
      ]
    },
    {
      "cell_type": "code",
      "source": [
        "20 % 2"
      ],
      "metadata": {
        "colab": {
          "base_uri": "https://localhost:8080/"
        },
        "id": "QSHMU_G9GGJI",
        "outputId": "0060c877-5cc7-4138-f419-c04c83f0964d"
      },
      "execution_count": 12,
      "outputs": [
        {
          "output_type": "execute_result",
          "data": {
            "text/plain": [
              "0"
            ]
          },
          "metadata": {},
          "execution_count": 12
        }
      ]
    },
    {
      "cell_type": "code",
      "source": [
        "teks = 'Abid Juliant Indraswara AIUEO'\n",
        "vokal = 'aiueoAIUEO'\n",
        "lib = {'a' : '1', 'i' : '2', 'u' : '3', 'e' : '4', 'o' : '5'}\n",
        "\n",
        "for i in range(0, len(teks)):\n",
        "  if teks[i] in vokal:\n",
        "    huruf = teks[i].lower()\n",
        "    teks = teks.replace(teks[i], huruf)\n",
        "    teks = teks.replace(huruf, lib[huruf])\n",
        "\n",
        "print(teks)"
      ],
      "metadata": {
        "colab": {
          "base_uri": "https://localhost:8080/"
        },
        "id": "liZaOr3gTu7T",
        "outputId": "be33e280-5542-4a2e-f02e-be29a05f6582"
      },
      "execution_count": 13,
      "outputs": [
        {
          "output_type": "stream",
          "name": "stdout",
          "text": [
            "1b2d J3l21nt 2ndr1sw1r1 12345\n"
          ]
        }
      ]
    },
    {
      "cell_type": "code",
      "source": [
        "angka = []\n",
        "def deret(input):\n",
        "  for i in range(input, 1, -1):\n",
        "    if i % 2 != 0:\n",
        "      angka.append(i)\n",
        "  print(angka)\n",
        "\n",
        "deret(10)"
      ],
      "metadata": {
        "colab": {
          "base_uri": "https://localhost:8080/"
        },
        "id": "pJZ8p_-BUzbK",
        "outputId": "737a2fc3-23ac-4451-ec85-13a90f9c1410"
      },
      "execution_count": 14,
      "outputs": [
        {
          "output_type": "stream",
          "name": "stdout",
          "text": [
            "[9, 7, 5, 3]\n"
          ]
        }
      ]
    },
    {
      "cell_type": "code",
      "source": [
        "teks = 'Aku anak Indonesias'\n",
        "jml = len(teks)\n",
        "if jml % 2 == 0:\n",
        "  print('even')\n",
        "else:\n",
        "  print('odd')"
      ],
      "metadata": {
        "colab": {
          "base_uri": "https://localhost:8080/"
        },
        "id": "qYQhELj5VTgl",
        "outputId": "e40ead5c-7363-48ef-a49a-7e680b79dd47"
      },
      "execution_count": 15,
      "outputs": [
        {
          "output_type": "stream",
          "name": "stdout",
          "text": [
            "odd\n"
          ]
        }
      ]
    },
    {
      "cell_type": "code",
      "source": [
        "import numpy as np\n",
        "a = np.array([[1,3,6], [5,4,7], [4,3,7]])\n",
        "b = np.array([3,5,8])\n",
        "print(np.linalg.solve(a,b))"
      ],
      "metadata": {
        "colab": {
          "base_uri": "https://localhost:8080/"
        },
        "id": "W3ZsbDZOVruE",
        "outputId": "de20beb3-edd4-4664-ca11-0928e25f825d"
      },
      "execution_count": 16,
      "outputs": [
        {
          "output_type": "stream",
          "name": "stdout",
          "text": [
            "[ 0.9 -3.9  2.3]\n"
          ]
        }
      ]
    },
    {
      "cell_type": "code",
      "source": [
        "# Fungsi Reverse\n",
        "def reverse(s): \n",
        "    str = \"\" \n",
        "    for i in s: \n",
        "        str = i + str \n",
        "    return str \n",
        "\n",
        "s = \"Hello World\" \n",
        "print (\"String awal : \",end=\"\") \n",
        "print (s) \n",
        "\n",
        "print (\"String yang sudah dibalik : \",end=\"\") \n",
        "print (reverse(s)) "
      ],
      "metadata": {
        "colab": {
          "base_uri": "https://localhost:8080/"
        },
        "id": "w5elRyoO73Pi",
        "outputId": "4c96e17d-1e9c-40a7-a697-e78c121baf57"
      },
      "execution_count": 17,
      "outputs": [
        {
          "output_type": "stream",
          "name": "stdout",
          "text": [
            "String awal : Hello World\n",
            "String yang sudah dibalik : dlroW olleH\n"
          ]
        }
      ]
    }
  ]
}